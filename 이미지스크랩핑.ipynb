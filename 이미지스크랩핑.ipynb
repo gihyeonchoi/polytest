{
  "nbformat": 4,
  "nbformat_minor": 0,
  "metadata": {
    "colab": {
      "provenance": [],
      "authorship_tag": "ABX9TyNW3FA2ehbN50qSx1T795bo",
      "include_colab_link": true
    },
    "kernelspec": {
      "name": "python3",
      "display_name": "Python 3"
    },
    "language_info": {
      "name": "python"
    }
  },
  "cells": [
    {
      "cell_type": "markdown",
      "metadata": {
        "id": "view-in-github",
        "colab_type": "text"
      },
      "source": [
        "<a href=\"https://colab.research.google.com/github/gihyeonchoi/polytest/blob/main/%EC%9D%B4%EB%AF%B8%EC%A7%80%EC%8A%A4%ED%81%AC%EB%9E%A9%ED%95%91.ipynb\" target=\"_parent\"><img src=\"https://colab.research.google.com/assets/colab-badge.svg\" alt=\"Open In Colab\"/></a>"
      ]
    },
    {
      "cell_type": "code",
      "execution_count": 1,
      "metadata": {
        "colab": {
          "base_uri": "https://localhost:8080/"
        },
        "id": "2hpCqwnO6DQp",
        "outputId": "9cc4c6ca-9fcb-4e1d-f80b-9379ba73764b"
      },
      "outputs": [
        {
          "output_type": "stream",
          "name": "stdout",
          "text": [
            "Collecting bing-image-downloader\n",
            "  Downloading bing_image_downloader-1.1.2-py3-none-any.whl (5.9 kB)\n",
            "Installing collected packages: bing-image-downloader\n",
            "Successfully installed bing-image-downloader-1.1.2\n"
          ]
        }
      ],
      "source": [
        "!pip install bing-image-downloader"
      ]
    },
    {
      "cell_type": "code",
      "source": [
        "\n",
        "from bing_image_downloader import downloader # bing_image_downloader 모듈에서 downloader를 가져옴\n",
        "\n",
        "from pathlib import Path # pathlib 모듈에서 Path를 가져옴\n",
        "\n",
        "\n",
        "def download_images(keyword, num_images, file_name):\n",
        "  output_directory = \"images\" # 이미지를 저장할 폴더 이름\n",
        "\n",
        "  downloader.download(keyword, limit=num_images, output_dir=output_directory, adult_filter_off=True, force_replace=False, timeout=60) # 이미지 다운로드\n",
        "\n",
        "\n",
        "  root = Path().cwd() / output_directory # 이미지 저장 폴더의 경로\n",
        "\n",
        "  downloaded_files = list(root.glob(\"*.*\")) # 폴더 내 모든 파일 가져오기\n",
        "\n",
        "  for i, file in enumerate(downloaded_files): # 다운로드된 각 파일에 대해 반복\n",
        "    extension = file.suffix # 파일 확장자\n",
        "    new_file_name = f\"{file_name}{i+1}{extension}\" # 새로운 파일 이름\n",
        "    new_file_path = root / new_file_name # 새로운 파일 경로\n",
        "    file.rename(new_file_path) # 파일 이름 변경\n"
      ],
      "metadata": {
        "id": "9o37pC4z6hlF"
      },
      "execution_count": 4,
      "outputs": []
    },
    {
      "cell_type": "code",
      "source": [
        "keyword = \"Gaming mouse\"\n",
        "num_images = 50\n",
        "file_name = \"이미지스크랩핑테스트\""
      ],
      "metadata": {
        "id": "tAAApN_q7MKH"
      },
      "execution_count": 8,
      "outputs": []
    },
    {
      "cell_type": "code",
      "source": [
        "from google.colab import drive\n",
        "drive.mount('/content/drive')\n"
      ],
      "metadata": {
        "colab": {
          "base_uri": "https://localhost:8080/"
        },
        "id": "TXsCEZdR7d-l",
        "outputId": "55f0d602-980b-4827-f60e-436d40ca9aaf"
      },
      "execution_count": 6,
      "outputs": [
        {
          "output_type": "stream",
          "name": "stdout",
          "text": [
            "Mounted at /content/drive\n"
          ]
        }
      ]
    },
    {
      "cell_type": "code",
      "source": [
        "download_images(keyword, num_images, file_name)"
      ],
      "metadata": {
        "colab": {
          "base_uri": "https://localhost:8080/"
        },
        "id": "52WBlNLL7q6U",
        "outputId": "7a905e31-988f-4d43-e123-6914bf60681d"
      },
      "execution_count": 9,
      "outputs": [
        {
          "output_type": "stream",
          "name": "stdout",
          "text": [
            "[%] Downloading Images to /content/images/Gaming mouse\n",
            "\n",
            "\n",
            "[!!]Indexing page: 1\n",
            "\n",
            "[%] Indexed 35 Images on Page 1.\n",
            "\n",
            "===============================================\n",
            "\n",
            "[%] Downloading Image #1 from https://m.media-amazon.com/images/I/61qsuOlY23L.jpg\n",
            "[%] File Downloaded !\n",
            "\n",
            "[%] Downloading Image #2 from https://i5.walmartimages.com/asr/612c9041-012b-4c10-9cb6-66fc1879ead6.97793d725bec60998a9b955cef3b91d0.png\n",
            "[%] File Downloaded !\n",
            "\n",
            "[%] Downloading Image #3 from https://www.ytechb.com/wp-content/uploads/2017/10/1.2-5.jpg\n",
            "[%] File Downloaded !\n",
            "\n",
            "[%] Downloading Image #4 from https://www.bhphotovideo.com/images/images2500x2500/logitech_910_004360_g300s_gaming_mouse_1107672.jpg\n",
            "[%] File Downloaded !\n",
            "\n",
            "[%] Downloading Image #5 from https://gamehub.om/wp-content/uploads/2020/02/1574065017-Glorious-Model-D-MB2.jpg\n",
            "[Error]Invalid image, not saving https://gamehub.om/wp-content/uploads/2020/02/1574065017-Glorious-Model-D-MB2.jpg\n",
            "\n",
            "[!] Issue getting: https://gamehub.om/wp-content/uploads/2020/02/1574065017-Glorious-Model-D-MB2.jpg\n",
            "[!] Error:: Invalid image, not saving https://gamehub.om/wp-content/uploads/2020/02/1574065017-Glorious-Model-D-MB2.jpg\n",
            "\n",
            "[%] Downloading Image #5 from https://cdn.mos.cms.futurecdn.net/ishm6s4JvvRwvRh8NjMf7L.jpg\n",
            "[%] File Downloaded !\n",
            "\n",
            "[%] Downloading Image #6 from https://images-na.ssl-images-amazon.com/images/I/61j7B6MTKmL._SL1280_.jpg\n",
            "[%] File Downloaded !\n",
            "\n",
            "[%] Downloading Image #7 from https://www.bhphotovideo.com/images/images2500x2500/razer_rz01_01360100_r3u1_mamba_chroma_ergonomic_gaming_mouse_1184492.jpg\n",
            "[%] File Downloaded !\n",
            "\n",
            "[%] Downloading Image #8 from http://static2.businessinsider.com/image/5453cb4b6bb3f76b21c6247e/this-gaming-mouse-is-intense.jpg\n",
            "[%] File Downloaded !\n",
            "\n",
            "[%] Downloading Image #9 from https://ae01.alicdn.com/kf/HTB1Da65xAyWBuNjy0Fpq6yssXXab/Professional-Wired-Gaming-Mouse-7-Button-5500-DPI-LED-Optical-USB-Computer-Mouse-Gamer-Mice-X7.jpg\n",
            "[%] File Downloaded !\n",
            "\n",
            "[%] Downloading Image #10 from https://i5.walmartimages.com/asr/fe47a4ab-5ecc-414f-ae49-6c7a2669e11b_1.42489ef0e331c97f5252d7fc211303a1.jpeg\n",
            "[%] File Downloaded !\n",
            "\n",
            "[%] Downloading Image #11 from https://i5.walmartimages.com/asr/61ef7e4a-c3a9-4a46-8b65-f04185c85f86_1.2d51e62f50c5275258f7cd7dea8dad1f.jpeg\n",
            "[%] File Downloaded !\n",
            "\n",
            "[%] Downloading Image #12 from http://roundpulse.com/wp-content/uploads/2017/10/61JaqatcSwL._SL1280_-1024x1024.jpg\n",
            "[%] File Downloaded !\n",
            "\n",
            "[%] Downloading Image #13 from https://www.bhphotovideo.com/images/images2500x2500/logitech_910_005083_g903_lightspeed_wireless_gaming_1374579.jpg\n",
            "[%] File Downloaded !\n",
            "\n",
            "[%] Downloading Image #14 from https://i5.walmartimages.com/asr/1af11885-7029-4c9b-9d0c-802af93d9a65.327cde8516e45edf80f6300ef2949e3b.jpeg\n",
            "[%] File Downloaded !\n",
            "\n",
            "[%] Downloading Image #15 from https://cdn.shopify.com/s/files/1/2695/9506/products/m686gamingmouse_2_1200x1200.png?v=1584694789\n",
            "[%] File Downloaded !\n",
            "\n",
            "[%] Downloading Image #16 from https://images-na.ssl-images-amazon.com/images/I/71HPtyhEz8L._AC_SL1500_.jpg\n",
            "[%] File Downloaded !\n",
            "\n",
            "[%] Downloading Image #17 from https://secure5.ksb.net/HotEnergy/productImage/2018_09/2018_9_6_49927_221694.jpg\n",
            "[%] File Downloaded !\n",
            "\n",
            "[%] Downloading Image #18 from https://m.media-amazon.com/images/I/61QY3V6A-NL.jpg\n",
            "[%] File Downloaded !\n",
            "\n",
            "[%] Downloading Image #19 from https://www.bhphotovideo.com/images/images2000x2000/msi_ds200interceptr_interceptor_ds200_gaming_mouse_1196799.jpg\n",
            "[%] File Downloaded !\n",
            "\n",
            "[%] Downloading Image #20 from https://images-na.ssl-images-amazon.com/images/G/01/aplusautomation/vendorimages/4c84264f-b07d-447d-b2ca-66ee740295b3.jpg._CB326274528_.jpg\n",
            "[%] File Downloaded !\n",
            "\n",
            "[%] Downloading Image #21 from https://i5.walmartimages.com/asr/e008e875-c0fd-40b4-b8d9-42a5ee437d14.818c893955b086c4c24484ccde29a273.jpeg\n",
            "[%] File Downloaded !\n",
            "\n",
            "[%] Downloading Image #22 from https://brain-images-ssl.cdn.dixons.com/3/6/10192063/u_10192063.jpg\n",
            "[%] File Downloaded !\n",
            "\n",
            "[%] Downloading Image #23 from https://images-na.ssl-images-amazon.com/images/I/81g1xQK-llL._AC_SL1500_.jpg\n",
            "[%] File Downloaded !\n",
            "\n",
            "[%] Downloading Image #24 from https://images-na.ssl-images-amazon.com/images/I/61a0KNfNNNL._AC_SL1500_.jpg\n",
            "[%] File Downloaded !\n",
            "\n",
            "[%] Downloading Image #25 from https://i5.walmartimages.com/asr/70683666-a06d-4f91-bd1f-0c5db55fcdf0_1.bac86a10fa373151fb30aa7c509d20cd.jpeg\n",
            "[%] File Downloaded !\n",
            "\n",
            "[%] Downloading Image #26 from http://gadgetsin.com/uploads/2011/07/rude_gameware_fierce_3500_wireless_gaming_mouse_1.jpg\n",
            "[%] File Downloaded !\n",
            "\n",
            "[%] Downloading Image #27 from https://ae01.alicdn.com/kf/HTB1euKbairxK1RkHFCcq6AQCVXaE/Redragon-M690-1-2400-DPI-Professional-Wireless-Gaming-Mouse-8-Buttons-Mice-for-MMO-Pro-Gamers.jpg\n",
            "[%] File Downloaded !\n",
            "\n",
            "[%] Downloading Image #28 from https://i5.walmartimages.com/asr/40a9fedc-f5e3-4ce7-889f-20072a0b9304.5c86a608e28efa421a27ff24ee2e9ce5.jpeg\n",
            "[%] File Downloaded !\n",
            "\n",
            "[%] Downloading Image #29 from http://www.designbolts.com/wp-content/uploads/2016/12/Professional-Grade-Wired-Wireless-Gaming-Mouse.jpg\n",
            "[%] File Downloaded !\n",
            "\n",
            "[%] Downloading Image #30 from https://www.forumfanatics.com/wp-content/uploads/2020/02/Gaming-Mouse.jpg\n",
            "[%] File Downloaded !\n",
            "\n",
            "[%] Downloading Image #31 from https://i.rtings.com/images/reviews/mouse/victsing/wireless-gaming-mouse/wireless-gaming-mouse-design-large.jpg\n",
            "[%] File Downloaded !\n",
            "\n",
            "[%] Downloading Image #32 from https://www.bhphotovideo.com/images/images2500x2500/logitech_910_003820_g602_wireless_gaming_mouse_1005800.jpg\n",
            "[%] File Downloaded !\n",
            "\n",
            "[%] Downloading Image #33 from http://www.eventus.si/en/iimg/4244/i.jpg\n",
            "[%] File Downloaded !\n",
            "\n",
            "[%] Downloading Image #34 from https://images-na.ssl-images-amazon.com/images/I/61u08CADHkL.jpg\n",
            "[%] File Downloaded !\n",
            "\n",
            "\n",
            "\n",
            "[!!]Indexing page: 2\n",
            "\n",
            "[%] No more images are available\n",
            "\n",
            "\n",
            "[%] Done. Downloaded 34 images.\n"
          ]
        }
      ]
    },
    {
      "cell_type": "code",
      "source": [
        "import shutil\n",
        "\n",
        "def compress_folder(folder_path, output_path):\n",
        "  shutil.make_archive(output_path, 'zip', folder_path)\n",
        "\n",
        "# 이미지 저장 폴더 압축\n",
        "folder_path = \"images\"\n",
        "output_path = \"images\"\n",
        "compress_folder(folder_path, output_path)\n"
      ],
      "metadata": {
        "id": "KvRXpEBQ8F8N"
      },
      "execution_count": 10,
      "outputs": []
    }
  ]
}